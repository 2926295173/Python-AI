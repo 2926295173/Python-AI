{
 "cells": [
  {
   "cell_type": "markdown",
   "id": "74a30495",
   "metadata": {},
   "source": [
    "🏡 我的环境：\n",
    "\n",
    "+ 语言环境：Python3.8\n",
    "+ 编译器：jupyter notebook\n",
    "+ 深度学习环境：Pytorch"
   ]
  },
  {
   "cell_type": "markdown",
   "id": "23ea5058",
   "metadata": {},
   "source": [
    "# 一、 前期准备\n",
    "\n",
    "## 1. 设置GPU\n",
    "\n",
    "如果设备上支持GPU就使用GPU,否则使用CPU"
   ]
  },
  {
   "cell_type": "code",
   "execution_count": 1,
   "id": "92238a52",
   "metadata": {},
   "outputs": [
    {
     "data": {
      "text/plain": [
       "device(type='cuda')"
      ]
     },
     "execution_count": 1,
     "metadata": {},
     "output_type": "execute_result"
    }
   ],
   "source": [
    "import torch\n",
    "import torch.nn as nn\n",
    "import matplotlib.pyplot as plt\n",
    "import torchvision\n",
    "\n",
    "device = torch.device(\"cuda\" if torch.cuda.is_available() else \"cpu\")\n",
    "\n",
    "device"
   ]
  },
  {
   "cell_type": "markdown",
   "id": "9e2b0ce2",
   "metadata": {},
   "source": [
    "## 2. 导入数据\n",
    "\n",
    "使用dataset下载MNIST数据集，并划分好训练集与测试集\n",
    "\n",
    "使用dataloader加载数据，并设置好基本的batch_size"
   ]
  },
  {
   "cell_type": "markdown",
   "id": "0ed744c1-3010-4d51-8980-fafd710c4b09",
   "metadata": {},
   "source": [
    "⭐ **`torchvision.datasets.MNIST详解`** \n",
    "\n",
    "`torchvision.datasets`是Pytorch自带的一个数据库，我们可以通过代码在线下载数据，这里使用的是`torchvision.datasets`中的`MNIST`数据集。\n",
    "\n",
    "**函数原型：**\n",
    "```python\n",
    "torchvision.datasets.MNIST(root, train=True, transform=None, target_transform=None, download=False)\n",
    "```\n",
    "**参数说明：**\n",
    "- **root** (string) ：数据地址\n",
    "- **train** (string) ：`True` = 训练集，`False` = 测试集 \n",
    "- **download** (bool,optional) : 如果为`True`，从互联网上下载数据集，并把数据集放在root目录下。\n",
    "- **transform** (callable, optional )：这里的参数选择一个你想要的数据转化函数，直接完成数据转化\n",
    "- **target_transform** (callable,optional) ：接受目标并对其进行转换的函数/转换。"
   ]
  },
  {
   "cell_type": "code",
   "execution_count": 2,
   "id": "14e56ce1",
   "metadata": {},
   "outputs": [],
   "source": [
    "train_ds = torchvision.datasets.MNIST('data', \n",
    "                                      train=True, \n",
    "                                      transform=torchvision.transforms.ToTensor(), # 将数据类型转化为Tensor\n",
    "                                      download=True)\n",
    "\n",
    "test_ds  = torchvision.datasets.MNIST('data', \n",
    "                                      train=False, \n",
    "                                      transform=torchvision.transforms.ToTensor(), # 将数据类型转化为Tensor\n",
    "                                      download=True)"
   ]
  },
  {
   "cell_type": "markdown",
   "id": "1bbc8233-d284-4815-b96c-1af5ad655f93",
   "metadata": {},
   "source": [
    "📌请在这里补充关于`torch.utils.data.DataLoader`的介绍（建议参照`torchvision.datasets.MNIST`详解）"
   ]
  },
  {
   "cell_type": "code",
   "execution_count": 3,
   "id": "48d40c87",
   "metadata": {},
   "outputs": [],
   "source": [
    "batch_size = 32\n",
    "\n",
    "train_dl = torch.utils.data.DataLoader(train_ds, \n",
    "                                       batch_size=batch_size, \n",
    "                                       shuffle=True)\n",
    "\n",
    "test_dl  = torch.utils.data.DataLoader(test_ds, \n",
    "                                       batch_size=batch_size)"
   ]
  },
  {
   "cell_type": "code",
   "execution_count": 4,
   "id": "75655f1b",
   "metadata": {},
   "outputs": [
    {
     "data": {
      "text/plain": [
       "torch.Size([32, 1, 28, 28])"
      ]
     },
     "execution_count": 4,
     "metadata": {},
     "output_type": "execute_result"
    }
   ],
   "source": [
    "# 取一个批次查看数据格式\n",
    "# 数据的shape为：[batch_size, channel, height, weight]\n",
    "# 其中batch_size为自己设定，channel，height和weight分别是图片的通道数，高度和宽度。\n",
    "imgs, labels = next(iter(train_dl))\n",
    "imgs.shape"
   ]
  },
  {
   "cell_type": "markdown",
   "id": "102647e8",
   "metadata": {},
   "source": [
    "## 3. 数据可视化"
   ]
  },
  {
   "cell_type": "markdown",
   "id": "07f802e5-8a53-4fa4-b1ca-21131231a27f",
   "metadata": {},
   "source": [
    "`squeeze()`函数的功能是从矩阵shape中，去掉维度为1的。例如一个矩阵是的shape是（5, 1），使用过这个函数后，结果为（5, ）。"
   ]
  },
  {
   "cell_type": "code",
   "execution_count": 5,
   "id": "e235b34c",
   "metadata": {
    "tags": []
   },
   "outputs": [
    {
     "data": {
      "image/png": "[encoded data removed]",
      "text/plain": [
       "<Figure size 1440x360 with 20 Axes>"
      ]
     },
     "metadata": {
      "needs_background": "light"
     },
     "output_type": "display_data"
    }
   ],
   "source": [
    "import numpy as np\n",
    "\n",
    " # 指定图片大小，图像大小为20宽、5高的绘图(单位为英寸inch)\n",
    "plt.figure(figsize=(20, 5)) \n",
    "for i, imgs in enumerate(imgs[:20]):\n",
    "    # 维度缩减\n",
    "    npimg = np.squeeze(imgs.numpy())\n",
    "    # 将整个figure分成2行10列，绘制第i+1个子图。\n",
    "    plt.subplot(2, 10, i+1)\n",
    "    plt.imshow(npimg, cmap=plt.cm.binary)\n",
    "    plt.axis('off')"
   ]
  },
  {
   "cell_type": "markdown",
   "id": "ebf2dcc1",
   "metadata": {
    "tags": []
   },
   "source": [
    "# 二、构建简单的CNN网络\n",
    "\n",
    " 对于一般的CNN网络来说，都是由特征提取网络和分类网络构成，其中特征提取网络用于提取图片的特征，分类网络用于将图片进行分类。\n",
    "\n",
    "nn.Conv2d为[卷积层](https://pytorch.org/docs/stable/generated/torch.nn.Conv2d.html#torch.nn.Conv2d)，用于提取图片的特征，传入参数为输入channel，输出channel，池化核大小\n",
    "\n",
    "nn.MaxPool2d为[池化层](https://pytorch.org/docs/stable/generated/torch.nn.MaxPool2d.html#torch.nn.MaxPool2d)，进行下采样，用更高层的抽象表示图像特征，传入参数为池化核大小\n",
    "\n",
    "nn.ReLU为[激活函数](https://pytorch.org/docs/stable/generated/torch.nn.ReLU.html?highlight=relu#torch.nn.ReLU)，使模型可以拟合非线性数据\n",
    "\n",
    "nn.Linear为[全连接层](https://pytorch.org/docs/stable/generated/torch.nn.Linear.html#torch.nn.Linear)，可以起到特征提取器的作用，最后一层的全连接层也可以认为是输出层，传入参数为输入特征数和输出特征数（输入特征数由特征提取网络计算得到，如果不会计算可以直接运行网络，报错中会提示输入特征数的大小，下方网络中第一个全连接层的输入特征数为1600）\n",
    "\n",
    "nn.Sequential可以[按构造顺序连接网络](https://pytorch.org/docs/stable/generated/torch.nn.Sequential.html?highlight=sequential#torch.nn.Sequential)，在初始化阶段就设定好网络结构，不需要在前向传播中重新写一遍"
   ]
  },
  {
   "cell_type": "code",
   "execution_count": 6,
   "id": "eb2e11bc",
   "metadata": {},
   "outputs": [],
   "source": [
    "import torch.nn.functional as F\n",
    "\n",
    "num_classes = 10  # 图片的类别数\n",
    "\n",
    "class Model(nn.Module):\n",
    "     def __init__(self):\n",
    "        super().__init__()\n",
    "         # 特征提取网络\n",
    "        self.conv1 = nn.Conv2d(1, 32, kernel_size=3)  # 第一层卷积,卷积核大小为3*3\n",
    "        self.pool1 = nn.MaxPool2d(2)                  # 设置池化层，池化核大小为2*2\n",
    "        self.conv2 = nn.Conv2d(32, 64, kernel_size=3) # 第二层卷积,卷积核大小为3*3   \n",
    "        self.pool2 = nn.MaxPool2d(2) \n",
    "                                      \n",
    "        # 分类网络\n",
    "        self.fc1 = nn.Linear(1600, 64)          \n",
    "        self.fc2 = nn.Linear(64, num_classes)\n",
    "     # 前向传播\n",
    "     def forward(self, x):\n",
    "        x = self.pool1(F.relu(self.conv1(x)))     \n",
    "        x = self.pool2(F.relu(self.conv2(x)))\n",
    "\n",
    "        x = torch.flatten(x, start_dim=1)\n",
    "\n",
    "        x = F.relu(self.fc1(x))\n",
    "        x = self.fc2(x)\n",
    "       \n",
    "        return x"
   ]
  },
  {
   "cell_type": "markdown",
   "id": "c369d8bc",
   "metadata": {},
   "source": [
    "加载并打印模型"
   ]
  },
  {
   "cell_type": "code",
   "execution_count": 7,
   "id": "ccde1c16",
   "metadata": {},
   "outputs": [
    {
     "data": {
      "text/plain": [
       "=================================================================\n",
       "Layer (type:depth-idx)                   Param #\n",
       "=================================================================\n",
       "Model                                    --\n",
       "├─Conv2d: 1-1                            320\n",
       "├─MaxPool2d: 1-2                         --\n",
       "├─Conv2d: 1-3                            18,496\n",
       "├─MaxPool2d: 1-4                         --\n",
       "├─Linear: 1-5                            102,464\n",
       "├─Linear: 1-6                            650\n",
       "=================================================================\n",
       "Total params: 121,930\n",
       "Trainable params: 121,930\n",
       "Non-trainable params: 0\n",
       "================================================================="
      ]
     },
     "execution_count": 7,
     "metadata": {},
     "output_type": "execute_result"
    }
   ],
   "source": [
    "from torchinfo import summary\n",
    "# 将模型转移到GPU中（我们模型运行均在GPU中进行）\n",
    "model = Model().to(device)\n",
    "\n",
    "summary(model)"
   ]
  },
  {
   "cell_type": "markdown",
   "id": "fed53298",
   "metadata": {},
   "source": [
    "# 三、 训练模型\n",
    "\n",
    "## 1. 设置超参数"
   ]
  },
  {
   "cell_type": "code",
   "execution_count": 8,
   "id": "bdbe0414",
   "metadata": {},
   "outputs": [],
   "source": [
    "loss_fn    = nn.CrossEntropyLoss() # 创建损失函数\n",
    "learn_rate = 1e-2 # 学习率\n",
    "opt        = torch.optim.SGD(model.parameters(),lr=learn_rate)"
   ]
  },
  {
   "cell_type": "markdown",
   "id": "76dd0725",
   "metadata": {},
   "source": [
    "## 2. 编写训练函数\n"
   ]
  },
  {
   "cell_type": "markdown",
   "id": "c02c0252-ea36-4a1a-8bd8-ce5f13d81081",
   "metadata": {},
   "source": [
    "**1. optimizer.zero_grad()**\n",
    "\n",
    "函数会遍历模型的所有参数，通过内置方法截断反向传播的梯度流，再将每个参数的梯度值设为0，即上一次的梯度记录被清空。\n",
    "\n",
    "**2. loss.backward()**\n",
    "\n",
    "PyTorch的反向传播(即`tensor.backward()`)是通过autograd包来实现的，autograd包会根据tensor进行过的数学运算来自动计算其对应的梯度。\n",
    "\n",
    "具体来说，torch.tensor是autograd包的基础类，如果你设置tensor的requires_grads为True，就会开始跟踪这个tensor上面的所有运算，如果你做完运算后使用`tensor.backward()`，所有的梯度就会自动运算，tensor的梯度将会累加到它的.grad属性里面去。\n",
    "\n",
    "更具体地说，损失函数loss是由模型的所有权重w经过一系列运算得到的，若某个w的requires_grads为True，则w的所有上层参数（后面层的权重w）的.grad_fn属性中就保存了对应的运算，然后在使用`loss.backward()`后，会一层层的反向传播计算每个w的梯度值，并保存到该w的.grad属性中。\n",
    "\n",
    "如果没有进行`tensor.backward()`的话，梯度值将会是None，因此`loss.backward()`要写在`optimizer.step()`之前。\n",
    "\n",
    "**3. optimizer.step()**\n",
    "\n",
    "step()函数的作用是执行一次优化步骤，通过梯度下降法来更新参数的值。因为梯度下降是基于梯度的，所以在执行`optimizer.step()`函数前应先执行`loss.backward()`函数来计算梯度。\n",
    "\n",
    "注意：optimizer只负责通过梯度下降进行优化，而不负责产生梯度，梯度是`tensor.backward()`方法产生的。"
   ]
  },
  {
   "cell_type": "code",
   "execution_count": 9,
   "id": "029e0d26",
   "metadata": {},
   "outputs": [],
   "source": [
    "# 训练循环\n",
    "def train(dataloader, model, loss_fn, optimizer):\n",
    "    size = len(dataloader.dataset)  # 训练集的大小，一共60000张图片\n",
    "    num_batches = len(dataloader)   # 批次数目，1875（60000/32）\n",
    "\n",
    "    train_loss, train_acc = 0, 0  # 初始化训练损失和正确率\n",
    "    \n",
    "    for X, y in dataloader:  # 获取图片及其标签\n",
    "        X, y = X.to(device), y.to(device)\n",
    "        \n",
    "        # 计算预测误差\n",
    "        pred = model(X)          # 网络输出\n",
    "        loss = loss_fn(pred, y)  # 计算网络输出和真实值之间的差距，targets为真实值，计算二者差值即为损失\n",
    "        \n",
    "        # 反向传播\n",
    "        optimizer.zero_grad()  # grad属性归零\n",
    "        loss.backward()        # 反向传播\n",
    "        optimizer.step()       # 每一步自动更新\n",
    "        \n",
    "        # 记录acc与loss\n",
    "        train_acc  += (pred.argmax(1) == y).type(torch.float).sum().item()\n",
    "        train_loss += loss.item()\n",
    "            \n",
    "    train_acc  /= size\n",
    "    train_loss /= num_batches\n",
    "\n",
    "    return train_acc, train_loss"
   ]
  },
  {
   "cell_type": "markdown",
   "id": "a4c23614",
   "metadata": {
    "tags": []
   },
   "source": [
    "## 3. 编写测试函数\n",
    "\n",
    "测试函数和训练函数大致相同，但是由于不进行梯度下降对网络权重进行更新，所以不需要传入优化器"
   ]
  },
  {
   "cell_type": "code",
   "execution_count": 10,
   "id": "428d2bc5",
   "metadata": {},
   "outputs": [],
   "source": [
    "def test(dataloader, model, loss_fn):\n",
    "    size        = len(dataloader.dataset)  # 测试集的大小，一共10000张图片\n",
    "    num_batches = len(dataloader)          # 批次数目，313（10000/32=312.5，向上取整）\n",
    "    \n",
    "    test_loss, test_acc = 0, 0\n",
    "    \n",
    "    # 当不进行训练时，停止梯度更新，节省计算内存消耗\n",
    "    with torch.no_grad():\n",
    "        for imgs, target in dataloader:\n",
    "            imgs, target = imgs.to(device), target.to(device)\n",
    "            \n",
    "            # 计算loss\n",
    "            target_pred = model(imgs)\n",
    "            loss        = loss_fn(target_pred, target)\n",
    "            \n",
    "            test_loss += loss.item()\n",
    "            test_acc  += (target_pred.argmax(1) == target).type(torch.float).sum().item()\n",
    "\n",
    "    test_acc  /= size\n",
    "    test_loss /= num_batches\n",
    "\n",
    "    return test_acc, test_loss"
   ]
  },
  {
   "cell_type": "markdown",
   "id": "83ad510f",
   "metadata": {
    "tags": []
   },
   "source": [
    "## 4. 正式训练\n",
    "\n",
    "**1. model.train()**\n",
    "\n",
    "`model.train()`的作用是启用 Batch Normalization 和 Dropout。\n",
    "\n",
    "如果模型中有`BN`层(Batch Normalization）和`Dropout`，需要在训练时添加`model.train()`。`model.train()`是保证BN层能够用到每一批数据的均值和方差。对于`Dropout`，`model.train()`是随机取一部分网络连接来训练更新参数。\n",
    "\n",
    "**2. model.eval()**\n",
    "\n",
    "`model.eval()`的作用是不启用 Batch Normalization 和 Dropout。\n",
    "\n",
    "如果模型中有BN层(Batch Normalization）和Dropout，在测试时添加`model.eval()`。`model.eval()`是保证BN层能够用全部训练数据的均值和方差，即测试过程中要保证BN层的均值和方差不变。对于`Dropout`，`model.eval()`是利用到了所有网络连接，即不进行随机舍弃神经元。\n",
    "\n",
    "训练完train样本后，生成的模型model要用来测试样本。在`model(test)`之前，需要加上`model.eval()`，否则的话，有输入数据，即使不训练，它也会改变权值。这是model中含有BN层和Dropout所带来的的性质。"
   ]
  },
  {
   "cell_type": "code",
   "execution_count": 11,
   "id": "db53b0cc",
   "metadata": {},
   "outputs": [
    {
     "name": "stdout",
     "output_type": "stream",
     "text": [
      "Epoch: 1, Train_acc:81.2%, Train_loss:0.651, Test_acc:93.6%，Test_loss:0.219\n",
      "Epoch: 2, Train_acc:94.6%, Train_loss:0.182, Test_acc:96.1%，Test_loss:0.130\n",
      "Epoch: 3, Train_acc:96.5%, Train_loss:0.117, Test_acc:97.3%，Test_loss:0.092\n",
      "Epoch: 4, Train_acc:97.2%, Train_loss:0.091, Test_acc:97.8%，Test_loss:0.070\n",
      "Epoch: 5, Train_acc:97.7%, Train_loss:0.076, Test_acc:98.3%，Test_loss:0.058\n",
      "Done\n"
     ]
    }
   ],
   "source": [
    "epochs     = 5\n",
    "train_loss = []\n",
    "train_acc  = []\n",
    "test_loss  = []\n",
    "test_acc   = []\n",
    "\n",
    "for epoch in range(epochs):\n",
    "    model.train()\n",
    "    epoch_train_acc, epoch_train_loss = train(train_dl, model, loss_fn, opt)\n",
    "    \n",
    "    model.eval()\n",
    "    epoch_test_acc, epoch_test_loss = test(test_dl, model, loss_fn)\n",
    "    \n",
    "    train_acc.append(epoch_train_acc)\n",
    "    train_loss.append(epoch_train_loss)\n",
    "    test_acc.append(epoch_test_acc)\n",
    "    test_loss.append(epoch_test_loss)\n",
    "    \n",
    "    template = ('Epoch:{:2d}, Train_acc:{:.1f}%, Train_loss:{:.3f}, Test_acc:{:.1f}%，Test_loss:{:.3f}')\n",
    "    print(template.format(epoch+1, epoch_train_acc*100, epoch_train_loss, epoch_test_acc*100, epoch_test_loss))\n",
    "print('Done')"
   ]
  },
  {
   "cell_type": "markdown",
   "id": "323977a2",
   "metadata": {
    "tags": []
   },
   "source": [
    "# 四、 结果可视化"
   ]
  },
  {
   "cell_type": "code",
   "execution_count": 12,
   "id": "9aac9674-c9c5-4eee-8a9b-54b7a63400ca",
   "metadata": {
    "tags": []
   },
   "outputs": [
    {
     "data": {
      "image/png": "[encoded data removed]",
      "text/plain": [
       "<Figure size 1200x300 with 2 Axes>"
      ]
     },
     "metadata": {
      "needs_background": "light"
     },
     "output_type": "display_data"
    }
   ],
   "source": [
    "import matplotlib.pyplot as plt\n",
    "#隐藏警告\n",
    "import warnings\n",
    "warnings.filterwarnings(\"ignore\")               #忽略警告信息\n",
    "plt.rcParams['font.sans-serif']    = ['SimHei'] # 用来正常显示中文标签\n",
    "plt.rcParams['axes.unicode_minus'] = False      # 用来正常显示负号\n",
    "plt.rcParams['figure.dpi']         = 100        #分辨率\n",
    "\n",
    "epochs_range = range(epochs)\n",
    "\n",
    "plt.figure(figsize=(12, 3))\n",
    "plt.subplot(1, 2, 1)\n",
    "\n",
    "plt.plot(epochs_range, train_acc, label='Training Accuracy')\n",
    "plt.plot(epochs_range, test_acc, label='Test Accuracy')\n",
    "plt.legend(loc='lower right')\n",
    "plt.title('Training and Validation Accuracy')\n",
    "\n",
    "plt.subplot(1, 2, 2)\n",
    "plt.plot(epochs_range, train_loss, label='Training Loss')\n",
    "plt.plot(epochs_range, test_loss, label='Test Loss')\n",
    "plt.legend(loc='upper right')\n",
    "plt.title('Training and Validation Loss')\n",
    "plt.show()"
   ]
  },
  {
   "cell_type": "code",
   "execution_count": null,
   "id": "c64ceae9",
   "metadata": {},
   "outputs": [],
   "source": []
  }
 ],
 "metadata": {
  "kernelspec": {
   "display_name": "Python 3 (ipykernel)",
   "language": "python",
   "name": "python3"
  },
  "language_info": {
   "codemirror_mode": {
    "name": "ipython",
    "version": 3
   },
   "file_extension": ".py",
   "mimetype": "text/x-python",
   "name": "python",
   "nbconvert_exporter": "python",
   "pygments_lexer": "ipython3",
   "version": "3.10.11"
  }
 },
 "nbformat": 4,
 "nbformat_minor": 5
}
