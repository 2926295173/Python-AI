{
 "cells": [
  {
   "cell_type": "code",
   "execution_count": null,
   "metadata": {},
   "outputs": [],
   "source": [
    "\n"
   ]
  },
  {
   "cell_type": "markdown",
   "metadata": {},
   "source": [
    "大家好，我是『K同学啊』！\n",
    "\n",
    "接着上一篇文章 [深度学习100例 | 第24天-卷积神经网络（Xception）：动物识别](https://mtyjkh.blog.csdn.net/article/details/120073717)，我用Xception模型实现了对狗、猫、鸡、马等四种动物的识别，带大家了解了Xception的构建。这次我们来 **实现一下中文版的 [手写数字识别](https://mtyjkh.blog.csdn.net/article/details/116920825)** ，听到手写数字识别或许会觉得简单，今天可能不一定哈。\n",
    "\n",
    "本次的重点：\n",
    "- 数据检查：在开始之前做一系列检查避免后期由于数据原因出现的bug。\n",
    "- 各项指标评估部分"
   ]
  },
  {
   "cell_type": "markdown",
   "metadata": {},
   "source": [
    "🔥本文 GitHub [https://github.com/kzbkzb/Python-AI](https://github.com/kzbkzb/Python-AI) 已收录\n",
    "\n",
    "- 作者：[K同学啊](https://mp.weixin.qq.com/s/NES9RhtAhbX_jsmGua28dA)\n",
    "- 来自专栏：《深度学习100例》-Tensorflow2版本\n",
    "- 数据链接：https://pan.baidu.com/s/1XRhJJ23CDSoVlzHhfYGSYQ （提取码：0gnh）\n",
    "\n",
    "🚀我的环境：\n",
    "\n",
    "- 语言环境：Python3.6.5\n",
    "- 编译器：jupyter notebook\n",
    "- 深度学习环境：TensorFlow2.4.1\n",
    "- 显卡（GPU）：NVIDIA GeForce RTX 3080\n",
    "\n",
    "**🚀 来自专栏：[《深度学习100例》](https://blog.csdn.net/qq_38251616/category_11068756.html)**\n",
    "\n",
    "**如果你是一名深度学习小白可以先看看我这个专门为你写的专栏：[《小白入门深度学习》](https://blog.csdn.net/qq_38251616/category_11188161.html)**\n",
    "\n",
    "1. [小白入门深度学习 | 第一篇：配置深度学习环境](https://mtyjkh.blog.csdn.net/article/details/118575238)\n",
    "2. [小白入门深度学习 | 第二篇：编译器的使用-Jupyter Notebook](https://mtyjkh.blog.csdn.net/article/details/118814364)\n",
    "3. [小白入门深度学习 | 第三篇：深度学习初体验](https://mtyjkh.blog.csdn.net/article/details/119081309)\n",
    "4. [小白入门深度学习 | 第四篇：配置PyTorch环境](https://mtyjkh.blog.csdn.net/article/details/119969393)\n",
    "\n",
    "🚀 往期精彩-卷积神经网络篇：\n",
    "\n",
    "1. [深度学习100例-卷积神经网络（CNN）实现mnist手写数字识别 | 第1天](https://mtyjkh.blog.csdn.net/article/details/116920825) \n",
    "2. [深度学习100例-卷积神经网络（CNN）彩色图片分类 | 第2天](https://mtyjkh.blog.csdn.net/article/details/116978213)\n",
    "3. [深度学习100例-卷积神经网络（CNN）服装图像分类 | 第3天](https://mtyjkh.blog.csdn.net/article/details/116992196)\n",
    "4. [深度学习100例-卷积神经网络（CNN）花朵识别 | 第4天](https://mtyjkh.blog.csdn.net/article/details/117079919)\n",
    "5. [深度学习100例-卷积神经网络（CNN）天气识别 | 第5天](https://mtyjkh.blog.csdn.net/article/details/117186183)\n",
    "6. [深度学习100例-卷积神经网络（VGG-16）识别海贼王草帽一伙 | 第6天](https://mtyjkh.blog.csdn.net/article/details/117331631)\n",
    "7. [深度学习100例-卷积神经网络（VGG-19）识别灵笼中的人物 | 第7天](https://mtyjkh.blog.csdn.net/article/details/117395797)\n",
    "8. [深度学习100例-卷积神经网络（ResNet-50）鸟类识别 | 第8天](https://mtyjkh.blog.csdn.net/article/details/117587326)\n",
    "9. [深度学习100例-卷积神经网络（AlexNet）手把手教学 | 第11天](https://mtyjkh.blog.csdn.net/article/details/117986183)\n",
    "10. [深度学习100例-卷积神经网络（CNN）识别验证码 | 第12天](https://mtyjkh.blog.csdn.net/article/details/118211253)\n",
    "11. [深度学习100例-卷积神经网络（Inception V3）识别手语 | 第13天](https://mtyjkh.blog.csdn.net/article/details/118310170)\n",
    "12. [深度学习100例-卷积神经网络（Inception-ResNet-v2）识别交通标志 | 第14天](https://mtyjkh.blog.csdn.net/article/details/118389790)\n",
    "13. [深度学习100例-卷积神经网络（CNN）实现车牌识别 | 第15天](https://mtyjkh.blog.csdn.net/article/details/118422302)\n",
    "14. [深度学习100例-卷积神经网络（CNN）识别神奇宝贝小智一伙 | 第16天](https://mtyjkh.blog.csdn.net/article/details/118631541)\n",
    "15. [深度学习100例-卷积神经网络（CNN）注意力检测 | 第17天](https://mtyjkh.blog.csdn.net/article/details/118938811)\n",
    "16. [深度学习100例-卷积神经网络（VGG-16）猫狗识别 | 第21天](https://mtyjkh.blog.csdn.net/article/details/119531838)\n",
    "17. [深度学习100例-卷积神经网络（LeNet-5）深度学习里的“Hello Word” | 第22天](https://mtyjkh.blog.csdn.net/article/details/119700804)\n",
    "18. [深度学习100例-卷积神经网络（CNN）3D医疗影像识别 | 第23天](https://mtyjkh.blog.csdn.net/article/details/119899570)\n",
    "19. [深度学习100例 | 第24天-卷积神经网络（Xception）：动物识别](https://blog.csdn.net/qq_38251616/article/details/120073717)\n",
    "\n",
    "🚀 往期精彩-循环神经网络篇：\n",
    "\n",
    "1. [深度学习100例-循环神经网络（RNN）实现股票预测 | 第9天](https://mtyjkh.blog.csdn.net/article/details/117752046)\n",
    "2. [深度学习100例-循环神经网络（LSTM）实现股票预测 | 第10天](https://mtyjkh.blog.csdn.net/article/details/117907074)\n",
    "\n",
    "🚀 往期精彩-生成对抗网络篇：\n",
    "\n",
    "1. [深度学习100例-生成对抗网络（GAN）手写数字生成 | 第18天](https://mtyjkh.blog.csdn.net/article/details/118995896)\n",
    "2. [深度学习100例-生成对抗网络（DCGAN）手写数字生成 | 第19天](https://mtyjkh.blog.csdn.net/article/details/119133575)\n",
    "3. [深度学习100例-生成对抗网络（DCGAN）生成动漫小姐姐 | 第20天](https://mtyjkh.blog.csdn.net/article/details/119182578)"
   ]
  },
  {
   "cell_type": "markdown",
   "metadata": {
    "tags": []
   },
   "source": [
    "# 一、设置GPU"
   ]
  },
  {
   "cell_type": "code",
   "execution_count": 1,
   "metadata": {},
   "outputs": [],
   "source": [
    "import tensorflow as tf\n",
    "gpus = tf.config.list_physical_devices(\"GPU\")\n",
    "\n",
    "if gpus:\n",
    "    gpu0 = gpus[0] #如果有多个GPU，仅使用第0个GPU\n",
    "    tf.config.experimental.set_memory_growth(gpu0, True) #设置GPU显存用量按需使用\n",
    "    tf.config.set_visible_devices([gpu0],\"GPU\")\n",
    "    \n",
    "import matplotlib.pyplot as plt\n",
    "import os,PIL,pathlib\n",
    "import numpy as np\n",
    "import pandas as pd\n",
    "import warnings\n",
    "from tensorflow import keras\n",
    "\n",
    "warnings.filterwarnings(\"ignore\")#忽略警告信息\n",
    "plt.rcParams['font.sans-serif'] = ['SimHei']  # 用来正常显示中文标签\n",
    "plt.rcParams['axes.unicode_minus'] = False  # 用来正常显示负号\n",
    "os.environ['TF_CPP_MIN_LOG_LEVEL']='2'"
   ]
  },
  {
   "cell_type": "markdown",
   "metadata": {
    "tags": []
   },
   "source": [
    "# 二、导入数据"
   ]
  },
  {
   "cell_type": "code",
   "execution_count": 29,
   "metadata": {},
   "outputs": [],
   "source": [
    "IMAGE_WIDTH = 64\n",
    "IMAGE_HEIGHT = 64\n",
    "IMAGE_CHANNELS = 1\n",
    "RANDOM_STATE = 42\n",
    "TEST_SIZE = 0.2\n",
    "VAL_SIZE = 0.2\n",
    "BATCH_SIZE = 32\n",
    "NO_EPOCHS = 50\n",
    "PATIENCE = 5\n",
    "VERBOSE = 1"
   ]
  },
  {
   "cell_type": "markdown",
   "metadata": {},
   "source": [
    "## 1. pandas导入数据"
   ]
  },
  {
   "cell_type": "code",
   "execution_count": 2,
   "metadata": {},
   "outputs": [
    {
     "data": {
      "text/html": [
       "<div>\n",
       "<style scoped>\n",
       "    .dataframe tbody tr th:only-of-type {\n",
       "        vertical-align: middle;\n",
       "    }\n",
       "\n",
       "    .dataframe tbody tr th {\n",
       "        vertical-align: top;\n",
       "    }\n",
       "\n",
       "    .dataframe thead th {\n",
       "        text-align: right;\n",
       "    }\n",
       "</style>\n",
       "<table border=\"1\" class=\"dataframe\">\n",
       "  <thead>\n",
       "    <tr style=\"text-align: right;\">\n",
       "      <th></th>\n",
       "      <th>suite_id</th>\n",
       "      <th>sample_id</th>\n",
       "      <th>code</th>\n",
       "      <th>value</th>\n",
       "      <th>character</th>\n",
       "    </tr>\n",
       "  </thead>\n",
       "  <tbody>\n",
       "    <tr>\n",
       "      <th>7606</th>\n",
       "      <td>63</td>\n",
       "      <td>6</td>\n",
       "      <td>2</td>\n",
       "      <td>1</td>\n",
       "      <td>一</td>\n",
       "    </tr>\n",
       "    <tr>\n",
       "      <th>223</th>\n",
       "      <td>29</td>\n",
       "      <td>3</td>\n",
       "      <td>10</td>\n",
       "      <td>9</td>\n",
       "      <td>九</td>\n",
       "    </tr>\n",
       "    <tr>\n",
       "      <th>852</th>\n",
       "      <td>86</td>\n",
       "      <td>2</td>\n",
       "      <td>10</td>\n",
       "      <td>9</td>\n",
       "      <td>九</td>\n",
       "    </tr>\n",
       "    <tr>\n",
       "      <th>2408</th>\n",
       "      <td>45</td>\n",
       "      <td>8</td>\n",
       "      <td>12</td>\n",
       "      <td>100</td>\n",
       "      <td>百</td>\n",
       "    </tr>\n",
       "    <tr>\n",
       "      <th>6743</th>\n",
       "      <td>76</td>\n",
       "      <td>3</td>\n",
       "      <td>1</td>\n",
       "      <td>0</td>\n",
       "      <td>零</td>\n",
       "    </tr>\n",
       "  </tbody>\n",
       "</table>\n",
       "</div>"
      ],
      "text/plain": [
       "      suite_id  sample_id  code  value character\n",
       "7606        63          6     2      1         一\n",
       "223         29          3    10      9         九\n",
       "852         86          2    10      9         九\n",
       "2408        45          8    12    100         百\n",
       "6743        76          3     1      0         零"
      ]
     },
     "execution_count": 2,
     "metadata": {},
     "output_type": "execute_result"
    }
   ],
   "source": [
    "data_df = pd.read_csv(\"./data/chinese_mnist.csv\")\n",
    "\n",
    "data_df.sample(100).head()"
   ]
  },
  {
   "cell_type": "markdown",
   "metadata": {
    "tags": []
   },
   "source": [
    "## 2. 检查数据是否缺失"
   ]
  },
  {
   "cell_type": "code",
   "execution_count": 3,
   "metadata": {},
   "outputs": [
    {
     "data": {
      "text/html": [
       "<div>\n",
       "<style scoped>\n",
       "    .dataframe tbody tr th:only-of-type {\n",
       "        vertical-align: middle;\n",
       "    }\n",
       "\n",
       "    .dataframe tbody tr th {\n",
       "        vertical-align: top;\n",
       "    }\n",
       "\n",
       "    .dataframe thead th {\n",
       "        text-align: right;\n",
       "    }\n",
       "</style>\n",
       "<table border=\"1\" class=\"dataframe\">\n",
       "  <thead>\n",
       "    <tr style=\"text-align: right;\">\n",
       "      <th></th>\n",
       "      <th>Total</th>\n",
       "      <th>Percent</th>\n",
       "    </tr>\n",
       "  </thead>\n",
       "  <tbody>\n",
       "    <tr>\n",
       "      <th>character</th>\n",
       "      <td>0</td>\n",
       "      <td>0.0</td>\n",
       "    </tr>\n",
       "    <tr>\n",
       "      <th>value</th>\n",
       "      <td>0</td>\n",
       "      <td>0.0</td>\n",
       "    </tr>\n",
       "    <tr>\n",
       "      <th>code</th>\n",
       "      <td>0</td>\n",
       "      <td>0.0</td>\n",
       "    </tr>\n",
       "    <tr>\n",
       "      <th>sample_id</th>\n",
       "      <td>0</td>\n",
       "      <td>0.0</td>\n",
       "    </tr>\n",
       "    <tr>\n",
       "      <th>suite_id</th>\n",
       "      <td>0</td>\n",
       "      <td>0.0</td>\n",
       "    </tr>\n",
       "  </tbody>\n",
       "</table>\n",
       "</div>"
      ],
      "text/plain": [
       "           Total  Percent\n",
       "character      0      0.0\n",
       "value          0      0.0\n",
       "code           0      0.0\n",
       "sample_id      0      0.0\n",
       "suite_id       0      0.0"
      ]
     },
     "execution_count": 3,
     "metadata": {},
     "output_type": "execute_result"
    }
   ],
   "source": [
    "# 查看是否有缺失数据\n",
    "def missing_data(data):\n",
    "    total = data.isnull().sum().sort_values(ascending = False)\n",
    "    percent = (data.isnull().sum()/data.isnull().count()*100).sort_values(ascending = False)\n",
    "    return pd.concat([total, percent], axis=1, keys=['Total', 'Percent'])\n",
    "missing_data(data_df)"
   ]
  },
  {
   "cell_type": "markdown",
   "metadata": {},
   "source": [
    "**（1）打印数据总量**"
   ]
  },
  {
   "cell_type": "code",
   "execution_count": 4,
   "metadata": {},
   "outputs": [
    {
     "name": "stdout",
     "output_type": "stream",
     "text": [
      "数据总量: 15000\n"
     ]
    }
   ],
   "source": [
    "IMAGE_PATH = './data/pictures/'\n",
    "image_files = list(os.listdir(IMAGE_PATH))\n",
    "print(\"数据总量: {}\".format(len(image_files)))"
   ]
  },
  {
   "cell_type": "markdown",
   "metadata": {},
   "source": [
    "**（2）匹配到的数据总量**"
   ]
  },
  {
   "cell_type": "code",
   "execution_count": 5,
   "metadata": {},
   "outputs": [
    {
     "name": "stdout",
     "output_type": "stream",
     "text": [
      "匹配到的数据总量: 15000\n"
     ]
    }
   ],
   "source": [
    "def create_file_name(x):\n",
    "    file_name = f\"input_{x[0]}_{x[1]}_{x[2]}.jpg\"\n",
    "    return file_name\n",
    "\n",
    "data_df[\"file\"] = data_df.apply(create_file_name, axis=1)\n",
    "\n",
    "file_names = list(data_df['file'])\n",
    "print(\"匹配到的数据总量: {}\".format(len(set(file_names).intersection(image_files))))"
   ]
  },
  {
   "cell_type": "markdown",
   "metadata": {},
   "source": [
    "**（3）检查数据的各项信息**"
   ]
  },
  {
   "cell_type": "code",
   "execution_count": 6,
   "metadata": {},
   "outputs": [],
   "source": [
    "def read_image_sizes(file_name):\n",
    "    image = skimage.io.imread(IMAGE_PATH + file_name)\n",
    "    return list(image.shape)"
   ]
  },
  {
   "cell_type": "code",
   "execution_count": 7,
   "metadata": {},
   "outputs": [
    {
     "data": {
      "text/html": [
       "<div>\n",
       "<style scoped>\n",
       "    .dataframe tbody tr th:only-of-type {\n",
       "        vertical-align: middle;\n",
       "    }\n",
       "\n",
       "    .dataframe tbody tr th {\n",
       "        vertical-align: top;\n",
       "    }\n",
       "\n",
       "    .dataframe thead th {\n",
       "        text-align: right;\n",
       "    }\n",
       "</style>\n",
       "<table border=\"1\" class=\"dataframe\">\n",
       "  <thead>\n",
       "    <tr style=\"text-align: right;\">\n",
       "      <th></th>\n",
       "      <th>suite_id</th>\n",
       "      <th>sample_id</th>\n",
       "      <th>code</th>\n",
       "      <th>value</th>\n",
       "      <th>character</th>\n",
       "      <th>file</th>\n",
       "      <th>w</th>\n",
       "      <th>h</th>\n",
       "    </tr>\n",
       "  </thead>\n",
       "  <tbody>\n",
       "    <tr>\n",
       "      <th>0</th>\n",
       "      <td>1</td>\n",
       "      <td>1</td>\n",
       "      <td>10</td>\n",
       "      <td>9</td>\n",
       "      <td>九</td>\n",
       "      <td>input_1_1_10.jpg</td>\n",
       "      <td>64</td>\n",
       "      <td>64</td>\n",
       "    </tr>\n",
       "    <tr>\n",
       "      <th>1</th>\n",
       "      <td>1</td>\n",
       "      <td>10</td>\n",
       "      <td>10</td>\n",
       "      <td>9</td>\n",
       "      <td>九</td>\n",
       "      <td>input_1_10_10.jpg</td>\n",
       "      <td>64</td>\n",
       "      <td>64</td>\n",
       "    </tr>\n",
       "    <tr>\n",
       "      <th>2</th>\n",
       "      <td>1</td>\n",
       "      <td>2</td>\n",
       "      <td>10</td>\n",
       "      <td>9</td>\n",
       "      <td>九</td>\n",
       "      <td>input_1_2_10.jpg</td>\n",
       "      <td>64</td>\n",
       "      <td>64</td>\n",
       "    </tr>\n",
       "    <tr>\n",
       "      <th>3</th>\n",
       "      <td>1</td>\n",
       "      <td>3</td>\n",
       "      <td>10</td>\n",
       "      <td>9</td>\n",
       "      <td>九</td>\n",
       "      <td>input_1_3_10.jpg</td>\n",
       "      <td>64</td>\n",
       "      <td>64</td>\n",
       "    </tr>\n",
       "    <tr>\n",
       "      <th>4</th>\n",
       "      <td>1</td>\n",
       "      <td>4</td>\n",
       "      <td>10</td>\n",
       "      <td>9</td>\n",
       "      <td>九</td>\n",
       "      <td>input_1_4_10.jpg</td>\n",
       "      <td>64</td>\n",
       "      <td>64</td>\n",
       "    </tr>\n",
       "  </tbody>\n",
       "</table>\n",
       "</div>"
      ],
      "text/plain": [
       "   suite_id  sample_id  code  value character               file   w   h\n",
       "0         1          1    10      9         九   input_1_1_10.jpg  64  64\n",
       "1         1         10    10      9         九  input_1_10_10.jpg  64  64\n",
       "2         1          2    10      9         九   input_1_2_10.jpg  64  64\n",
       "3         1          3    10      9         九   input_1_3_10.jpg  64  64\n",
       "4         1          4    10      9         九   input_1_4_10.jpg  64  64"
      ]
     },
     "execution_count": 7,
     "metadata": {},
     "output_type": "execute_result"
    }
   ],
   "source": [
    "import skimage\n",
    "import skimage.io\n",
    "import skimage.transform\n",
    "m = np.stack(data_df['file'].apply(read_image_sizes))\n",
    "\n",
    "df = pd.DataFrame(m,columns=['w','h'])\n",
    "data_df = pd.concat([data_df,df],axis=1, sort=False)\n",
    "data_df.head()"
   ]
  },
  {
   "cell_type": "markdown",
   "metadata": {},
   "source": [
    "## 3. 划分数据集"
   ]
  },
  {
   "cell_type": "code",
   "execution_count": 9,
   "metadata": {},
   "outputs": [],
   "source": [
    "from sklearn.model_selection import train_test_split\n",
    "\n",
    "train_df, test_df = train_test_split(data_df, test_size=TEST_SIZE, random_state=RANDOM_STATE, stratify=data_df[\"code\"].values)\n",
    "train_df, val_df  = train_test_split(train_df, test_size=VAL_SIZE, random_state=RANDOM_STATE, stratify=train_df[\"code\"].values)"
   ]
  },
  {
   "cell_type": "code",
   "execution_count": 10,
   "metadata": {},
   "outputs": [
    {
     "name": "stdout",
     "output_type": "stream",
     "text": [
      "Train set rows: 9600\n",
      "Test  set rows: 3000\n",
      "Val   set rows: 2400\n"
     ]
    }
   ],
   "source": [
    "print(\"Train set rows: {}\".format(train_df.shape[0]))\n",
    "print(\"Test  set rows: {}\".format(test_df.shape[0]))\n",
    "print(\"Val   set rows: {}\".format(val_df.shape[0]))"
   ]
  },
  {
   "cell_type": "markdown",
   "metadata": {},
   "source": [
    "# 三、构建模型"
   ]
  },
  {
   "cell_type": "code",
   "execution_count": 11,
   "metadata": {},
   "outputs": [],
   "source": [
    "def read_image(file_name):\n",
    "    image = skimage.io.imread(IMAGE_PATH + file_name)\n",
    "    image = skimage.transform.resize(image, (IMAGE_WIDTH, IMAGE_HEIGHT, 1), mode='reflect')\n",
    "    return image[:,:,:]"
   ]
  },
  {
   "cell_type": "code",
   "execution_count": 12,
   "metadata": {},
   "outputs": [],
   "source": [
    "def categories_encoder(dataset, var='character'):\n",
    "    X = np.stack(dataset['file'].apply(read_image))\n",
    "    y = pd.get_dummies(dataset[var], drop_first=False) #get_dummies是利用pandas实现one hot encode的方式。\n",
    "    return X, y"
   ]
  },
  {
   "cell_type": "code",
   "execution_count": 13,
   "metadata": {},
   "outputs": [
    {
     "data": {
      "text/plain": [
       "(9600, 8)"
      ]
     },
     "execution_count": 13,
     "metadata": {},
     "output_type": "execute_result"
    }
   ],
   "source": [
    "train_df.shape"
   ]
  },
  {
   "cell_type": "code",
   "execution_count": 14,
   "metadata": {},
   "outputs": [],
   "source": [
    "X_train, y_train = categories_encoder(train_df)\n",
    "X_val,   y_val   = categories_encoder(val_df)\n",
    "X_test,  y_test  = categories_encoder(test_df)"
   ]
  },
  {
   "cell_type": "code",
   "execution_count": 15,
   "metadata": {},
   "outputs": [
    {
     "data": {
      "text/plain": [
       "((9600, 64, 64, 1), (9600, 15))"
      ]
     },
     "execution_count": 15,
     "metadata": {},
     "output_type": "execute_result"
    }
   ],
   "source": [
    "X_train.shape,y_train.shape"
   ]
  },
  {
   "cell_type": "code",
   "execution_count": 16,
   "metadata": {
    "tags": []
   },
   "outputs": [
    {
     "name": "stdout",
     "output_type": "stream",
     "text": [
      "Model: \"sequential\"\n",
      "_________________________________________________________________\n",
      "Layer (type)                 Output Shape              Param #   \n",
      "=================================================================\n",
      "conv2d (Conv2D)              (None, 64, 64, 16)        160       \n",
      "_________________________________________________________________\n",
      "conv2d_1 (Conv2D)            (None, 64, 64, 16)        2320      \n",
      "_________________________________________________________________\n",
      "max_pooling2d (MaxPooling2D) (None, 32, 32, 16)        0         \n",
      "_________________________________________________________________\n",
      "dropout (Dropout)            (None, 32, 32, 16)        0         \n",
      "_________________________________________________________________\n",
      "conv2d_2 (Conv2D)            (None, 32, 32, 16)        2320      \n",
      "_________________________________________________________________\n",
      "max_pooling2d_1 (MaxPooling2 (None, 16, 16, 16)        0         \n",
      "_________________________________________________________________\n",
      "conv2d_3 (Conv2D)            (None, 16, 16, 16)        2320      \n",
      "_________________________________________________________________\n",
      "max_pooling2d_2 (MaxPooling2 (None, 8, 8, 16)          0         \n",
      "_________________________________________________________________\n",
      "flatten (Flatten)            (None, 1024)              0         \n",
      "_________________________________________________________________\n",
      "dense (Dense)                (None, 15)                15375     \n",
      "=================================================================\n",
      "Total params: 22,495\n",
      "Trainable params: 22,495\n",
      "Non-trainable params: 0\n",
      "_________________________________________________________________\n"
     ]
    }
   ],
   "source": [
    "import tensorflow as tf\n",
    "\n",
    "model = tf.keras.Sequential([\n",
    "    tf.keras.layers.Conv2D(filters=16,kernel_size=(3,3),padding=\"same\",activation=\"relu\",input_shape=[64, 64, 1]),\n",
    "    tf.keras.layers.Conv2D(filters=16,kernel_size=(3,3),padding=\"same\",activation=\"relu\"),\n",
    "\n",
    "    tf.keras.layers.MaxPooling2D((2,2)),\n",
    "    tf.keras.layers.Dropout(0.5),\n",
    "    tf.keras.layers.Conv2D(filters=16,kernel_size=(3,3),padding=\"same\",activation=\"relu\"),\n",
    "    tf.keras.layers.MaxPooling2D((2,2)),\n",
    "    tf.keras.layers.Conv2D(filters=16,kernel_size=(3,3),padding=\"same\",activation=\"relu\"),\n",
    "    tf.keras.layers.MaxPooling2D((2,2)),\n",
    "    tf.keras.layers.Flatten(),\n",
    "    tf.keras.layers.Dense(15, activation=\"softmax\")\n",
    "])\n",
    "model.summary()"
   ]
  },
  {
   "cell_type": "markdown",
   "metadata": {},
   "source": [
    "# 四、编译"
   ]
  },
  {
   "cell_type": "code",
   "execution_count": 17,
   "metadata": {
    "tags": []
   },
   "outputs": [],
   "source": [
    "model.compile(optimizer=\"adam\",\n",
    "                loss='categorical_crossentropy',\n",
    "                metrics=['accuracy'])"
   ]
  },
  {
   "cell_type": "code",
   "execution_count": 18,
   "metadata": {},
   "outputs": [
    {
     "data": {
      "text/plain": [
       "(9600, 15)"
      ]
     },
     "execution_count": 18,
     "metadata": {},
     "output_type": "execute_result"
    }
   ],
   "source": [
    "y_train.shape"
   ]
  },
  {
   "cell_type": "markdown",
   "metadata": {},
   "source": [
    "# 五、训练模型"
   ]
  },
  {
   "cell_type": "code",
   "execution_count": 19,
   "metadata": {},
   "outputs": [],
   "source": [
    "from tensorflow.keras.callbacks import ModelCheckpoint, Callback, EarlyStopping, ReduceLROnPlateau, LearningRateScheduler\n",
    "\n",
    "# 设置动态学习率\n",
    "annealer = LearningRateScheduler(lambda x: 1e-3 * 0.99 ** (x+NO_EPOCHS))\n",
    "\n",
    "# 设置早停\n",
    "earlystopper = EarlyStopping(monitor='loss', patience=PATIENCE, verbose=VERBOSE)\n",
    "\n",
    "# \n",
    "checkpointer = ModelCheckpoint('best_model.h5',\n",
    "                                monitor='val_accuracy',\n",
    "                                verbose=VERBOSE,\n",
    "                                save_best_only=True,\n",
    "                                save_weights_only=True)"
   ]
  },
  {
   "cell_type": "code",
   "execution_count": 20,
   "metadata": {
    "scrolled": true,
    "tags": []
   },
   "outputs": [
    {
     "name": "stdout",
     "output_type": "stream",
     "text": [
      "Epoch 1/50\n",
      "300/300 [==============================] - 4s 5ms/step - loss: 1.8074 - accuracy: 0.4356 - val_loss: 1.2356 - val_accuracy: 0.6237\n",
      "\n",
      "Epoch 00001: val_accuracy improved from -inf to 0.62375, saving model to best_model.h5\n",
      "Epoch 2/50\n",
      "300/300 [==============================] - 1s 4ms/step - loss: 0.9848 - accuracy: 0.6914 - val_loss: 0.7914 - val_accuracy: 0.7508\n",
      "\n",
      "Epoch 00002: val_accuracy improved from 0.62375 to 0.75083, saving model to best_model.h5\n",
      "Epoch 3/50\n",
      "300/300 [==============================] - 1s 4ms/step - loss: 0.6645 - accuracy: 0.7898 - val_loss: 0.5913 - val_accuracy: 0.8117\n",
      "\n",
      "Epoch 00003: val_accuracy improved from 0.75083 to 0.81167, saving model to best_model.h5\n",
      "Epoch 4/50\n",
      "300/300 [==============================] - 1s 4ms/step - loss: 0.4919 - accuracy: 0.8407 - val_loss: 0.4744 - val_accuracy: 0.8462\n",
      "\n",
      "Epoch 00004: val_accuracy improved from 0.81167 to 0.84625, saving model to best_model.h5\n",
      "Epoch 5/50\n",
      "300/300 [==============================] - 1s 4ms/step - loss: 0.3897 - accuracy: 0.8749 - val_loss: 0.3602 - val_accuracy: 0.8875\n",
      "\n",
      "Epoch 00005: val_accuracy improved from 0.84625 to 0.88750, saving model to best_model.h5\n",
      "Epoch 6/50\n",
      "300/300 [==============================] - 1s 4ms/step - loss: 0.3211 - accuracy: 0.8953 - val_loss: 0.3080 - val_accuracy: 0.8979\n",
      "\n",
      "Epoch 00006: val_accuracy improved from 0.88750 to 0.89792, saving model to best_model.h5\n",
      "Epoch 7/50\n",
      "300/300 [==============================] - 1s 4ms/step - loss: 0.2747 - accuracy: 0.9100 - val_loss: 0.2686 - val_accuracy: 0.9137\n",
      "\n",
      "Epoch 00007: val_accuracy improved from 0.89792 to 0.91375, saving model to best_model.h5\n",
      "Epoch 8/50\n",
      "300/300 [==============================] - 1s 4ms/step - loss: 0.2426 - accuracy: 0.9193 - val_loss: 0.2786 - val_accuracy: 0.9092\n",
      "\n",
      "Epoch 00008: val_accuracy did not improve from 0.91375\n",
      "Epoch 9/50\n",
      "300/300 [==============================] - 1s 4ms/step - loss: 0.2073 - accuracy: 0.9333 - val_loss: 0.2309 - val_accuracy: 0.9221\n",
      "\n",
      "Epoch 00009: val_accuracy improved from 0.91375 to 0.92208, saving model to best_model.h5\n",
      "Epoch 10/50\n",
      "300/300 [==============================] - 1s 4ms/step - loss: 0.1852 - accuracy: 0.9379 - val_loss: 0.2169 - val_accuracy: 0.9283\n",
      "\n",
      "Epoch 00010: val_accuracy improved from 0.92208 to 0.92833, saving model to best_model.h5\n",
      "Epoch 11/50\n",
      "300/300 [==============================] - 1s 4ms/step - loss: 0.1732 - accuracy: 0.9450 - val_loss: 0.2054 - val_accuracy: 0.9350\n",
      "\n",
      "Epoch 00011: val_accuracy improved from 0.92833 to 0.93500, saving model to best_model.h5\n",
      "Epoch 12/50\n",
      "300/300 [==============================] - 1s 4ms/step - loss: 0.1540 - accuracy: 0.9507 - val_loss: 0.2142 - val_accuracy: 0.9279\n",
      "\n",
      "Epoch 00012: val_accuracy did not improve from 0.93500\n",
      "Epoch 13/50\n",
      "300/300 [==============================] - 1s 4ms/step - loss: 0.1457 - accuracy: 0.9522 - val_loss: 0.1920 - val_accuracy: 0.9379\n",
      "\n",
      "Epoch 00013: val_accuracy improved from 0.93500 to 0.93792, saving model to best_model.h5\n",
      "Epoch 14/50\n",
      "300/300 [==============================] - 1s 4ms/step - loss: 0.1244 - accuracy: 0.9626 - val_loss: 0.1837 - val_accuracy: 0.9433\n",
      "\n",
      "Epoch 00014: val_accuracy improved from 0.93792 to 0.94333, saving model to best_model.h5\n",
      "Epoch 15/50\n",
      "300/300 [==============================] - 1s 4ms/step - loss: 0.1181 - accuracy: 0.9611 - val_loss: 0.1799 - val_accuracy: 0.9421\n",
      "\n",
      "Epoch 00015: val_accuracy did not improve from 0.94333\n",
      "Epoch 16/50\n",
      "300/300 [==============================] - 1s 4ms/step - loss: 0.1170 - accuracy: 0.9613 - val_loss: 0.1857 - val_accuracy: 0.9479\n",
      "\n",
      "Epoch 00016: val_accuracy improved from 0.94333 to 0.94792, saving model to best_model.h5\n",
      "Epoch 17/50\n",
      "300/300 [==============================] - 1s 4ms/step - loss: 0.1044 - accuracy: 0.9651 - val_loss: 0.1824 - val_accuracy: 0.9450\n",
      "\n",
      "Epoch 00017: val_accuracy did not improve from 0.94792\n",
      "Epoch 18/50\n",
      "300/300 [==============================] - 1s 4ms/step - loss: 0.0985 - accuracy: 0.9657 - val_loss: 0.1632 - val_accuracy: 0.9454\n",
      "\n",
      "Epoch 00018: val_accuracy did not improve from 0.94792\n",
      "Epoch 19/50\n",
      "300/300 [==============================] - 1s 4ms/step - loss: 0.1004 - accuracy: 0.9655 - val_loss: 0.1960 - val_accuracy: 0.9483\n",
      "\n",
      "Epoch 00019: val_accuracy improved from 0.94792 to 0.94833, saving model to best_model.h5\n",
      "Epoch 20/50\n",
      "300/300 [==============================] - 1s 4ms/step - loss: 0.0814 - accuracy: 0.9740 - val_loss: 0.1841 - val_accuracy: 0.9429\n",
      "\n",
      "Epoch 00020: val_accuracy did not improve from 0.94833\n",
      "Epoch 21/50\n",
      "300/300 [==============================] - 1s 4ms/step - loss: 0.0807 - accuracy: 0.9746 - val_loss: 0.2037 - val_accuracy: 0.9438\n",
      "\n",
      "Epoch 00021: val_accuracy did not improve from 0.94833\n",
      "Epoch 22/50\n",
      "300/300 [==============================] - 1s 4ms/step - loss: 0.0832 - accuracy: 0.9723 - val_loss: 0.1546 - val_accuracy: 0.9600\n",
      "\n",
      "Epoch 00022: val_accuracy improved from 0.94833 to 0.96000, saving model to best_model.h5\n",
      "Epoch 23/50\n",
      "300/300 [==============================] - 1s 4ms/step - loss: 0.0756 - accuracy: 0.9756 - val_loss: 0.1612 - val_accuracy: 0.9504\n",
      "\n",
      "Epoch 00023: val_accuracy did not improve from 0.96000\n",
      "Epoch 24/50\n",
      "300/300 [==============================] - 1s 4ms/step - loss: 0.0653 - accuracy: 0.9789 - val_loss: 0.1584 - val_accuracy: 0.9550\n",
      "\n",
      "Epoch 00024: val_accuracy did not improve from 0.96000\n",
      "Epoch 25/50\n",
      "300/300 [==============================] - 1s 4ms/step - loss: 0.0610 - accuracy: 0.9787 - val_loss: 0.1917 - val_accuracy: 0.9496\n",
      "\n",
      "Epoch 00025: val_accuracy did not improve from 0.96000\n",
      "Epoch 26/50\n",
      "300/300 [==============================] - 1s 4ms/step - loss: 0.0691 - accuracy: 0.9773 - val_loss: 0.1671 - val_accuracy: 0.9600\n",
      "\n",
      "Epoch 00026: val_accuracy did not improve from 0.96000\n",
      "Epoch 27/50\n",
      "300/300 [==============================] - 1s 4ms/step - loss: 0.0539 - accuracy: 0.9832 - val_loss: 0.1782 - val_accuracy: 0.9513\n",
      "\n",
      "Epoch 00027: val_accuracy did not improve from 0.96000\n",
      "Epoch 28/50\n",
      "300/300 [==============================] - 1s 4ms/step - loss: 0.0621 - accuracy: 0.9793 - val_loss: 0.1631 - val_accuracy: 0.9596\n",
      "\n",
      "Epoch 00028: val_accuracy did not improve from 0.96000\n",
      "Epoch 29/50\n",
      "300/300 [==============================] - 1s 4ms/step - loss: 0.0521 - accuracy: 0.9815 - val_loss: 0.1497 - val_accuracy: 0.9613\n",
      "\n",
      "Epoch 00029: val_accuracy improved from 0.96000 to 0.96125, saving model to best_model.h5\n",
      "Epoch 30/50\n",
      "300/300 [==============================] - 1s 4ms/step - loss: 0.0506 - accuracy: 0.9830 - val_loss: 0.1517 - val_accuracy: 0.9638\n",
      "\n",
      "Epoch 00030: val_accuracy improved from 0.96125 to 0.96375, saving model to best_model.h5\n",
      "Epoch 31/50\n",
      "300/300 [==============================] - 1s 4ms/step - loss: 0.0458 - accuracy: 0.9857 - val_loss: 0.1672 - val_accuracy: 0.9592\n",
      "\n",
      "Epoch 00031: val_accuracy did not improve from 0.96375\n",
      "Epoch 32/50\n",
      "300/300 [==============================] - 1s 4ms/step - loss: 0.0434 - accuracy: 0.9867 - val_loss: 0.1591 - val_accuracy: 0.9608\n",
      "\n",
      "Epoch 00032: val_accuracy did not improve from 0.96375\n",
      "Epoch 33/50\n",
      "300/300 [==============================] - 1s 4ms/step - loss: 0.0435 - accuracy: 0.9857 - val_loss: 0.1670 - val_accuracy: 0.9625\n",
      "\n",
      "Epoch 00033: val_accuracy did not improve from 0.96375\n",
      "Epoch 34/50\n",
      "300/300 [==============================] - 1s 4ms/step - loss: 0.0405 - accuracy: 0.9865 - val_loss: 0.1756 - val_accuracy: 0.9600\n",
      "\n",
      "Epoch 00034: val_accuracy did not improve from 0.96375\n",
      "Epoch 35/50\n",
      "300/300 [==============================] - 1s 4ms/step - loss: 0.0406 - accuracy: 0.9853 - val_loss: 0.1495 - val_accuracy: 0.9621\n",
      "\n",
      "Epoch 00035: val_accuracy did not improve from 0.96375\n",
      "Epoch 36/50\n",
      "300/300 [==============================] - 1s 4ms/step - loss: 0.0416 - accuracy: 0.9853 - val_loss: 0.1564 - val_accuracy: 0.9638\n",
      "\n",
      "Epoch 00036: val_accuracy did not improve from 0.96375\n",
      "Epoch 37/50\n",
      "300/300 [==============================] - 1s 4ms/step - loss: 0.0400 - accuracy: 0.9864 - val_loss: 0.1747 - val_accuracy: 0.9625\n",
      "\n",
      "Epoch 00037: val_accuracy did not improve from 0.96375\n",
      "Epoch 38/50\n",
      "300/300 [==============================] - 1s 4ms/step - loss: 0.0399 - accuracy: 0.9864 - val_loss: 0.1730 - val_accuracy: 0.9604\n",
      "\n",
      "Epoch 00038: val_accuracy did not improve from 0.96375\n",
      "Epoch 39/50\n",
      "300/300 [==============================] - 1s 4ms/step - loss: 0.0359 - accuracy: 0.9876 - val_loss: 0.1554 - val_accuracy: 0.9621\n",
      "\n",
      "Epoch 00039: val_accuracy did not improve from 0.96375\n",
      "Epoch 40/50\n",
      "300/300 [==============================] - 1s 4ms/step - loss: 0.0354 - accuracy: 0.9878 - val_loss: 0.1592 - val_accuracy: 0.9592\n",
      "\n",
      "Epoch 00040: val_accuracy did not improve from 0.96375\n",
      "Epoch 41/50\n",
      "300/300 [==============================] - 1s 4ms/step - loss: 0.0318 - accuracy: 0.9896 - val_loss: 0.1791 - val_accuracy: 0.9663\n",
      "\n",
      "Epoch 00041: val_accuracy improved from 0.96375 to 0.96625, saving model to best_model.h5\n",
      "Epoch 42/50\n",
      "300/300 [==============================] - 1s 4ms/step - loss: 0.0298 - accuracy: 0.9893 - val_loss: 0.1727 - val_accuracy: 0.9583\n",
      "\n",
      "Epoch 00042: val_accuracy did not improve from 0.96625\n",
      "Epoch 43/50\n",
      "300/300 [==============================] - 1s 4ms/step - loss: 0.0328 - accuracy: 0.9884 - val_loss: 0.1709 - val_accuracy: 0.9650\n",
      "\n",
      "Epoch 00043: val_accuracy did not improve from 0.96625\n",
      "Epoch 44/50\n",
      "300/300 [==============================] - 1s 4ms/step - loss: 0.0323 - accuracy: 0.9906 - val_loss: 0.1508 - val_accuracy: 0.9683\n",
      "\n",
      "Epoch 00044: val_accuracy improved from 0.96625 to 0.96833, saving model to best_model.h5\n",
      "Epoch 45/50\n",
      "300/300 [==============================] - 1s 4ms/step - loss: 0.0273 - accuracy: 0.9906 - val_loss: 0.1349 - val_accuracy: 0.9679\n",
      "\n",
      "Epoch 00045: val_accuracy did not improve from 0.96833\n",
      "Epoch 46/50\n",
      "300/300 [==============================] - 1s 4ms/step - loss: 0.0287 - accuracy: 0.9900 - val_loss: 0.1653 - val_accuracy: 0.9638\n",
      "\n",
      "Epoch 00046: val_accuracy did not improve from 0.96833\n",
      "Epoch 47/50\n",
      "300/300 [==============================] - 1s 4ms/step - loss: 0.0243 - accuracy: 0.9924 - val_loss: 0.1612 - val_accuracy: 0.9646\n",
      "\n",
      "Epoch 00047: val_accuracy did not improve from 0.96833\n",
      "Epoch 48/50\n",
      "300/300 [==============================] - 1s 4ms/step - loss: 0.0262 - accuracy: 0.9911 - val_loss: 0.1613 - val_accuracy: 0.9642\n",
      "\n",
      "Epoch 00048: val_accuracy did not improve from 0.96833\n",
      "Epoch 49/50\n",
      "300/300 [==============================] - 1s 4ms/step - loss: 0.0244 - accuracy: 0.9920 - val_loss: 0.1448 - val_accuracy: 0.9658\n",
      "\n",
      "Epoch 00049: val_accuracy did not improve from 0.96833\n",
      "Epoch 50/50\n",
      "300/300 [==============================] - 1s 4ms/step - loss: 0.0287 - accuracy: 0.9908 - val_loss: 0.1575 - val_accuracy: 0.9679\n",
      "\n",
      "Epoch 00050: val_accuracy did not improve from 0.96833\n"
     ]
    }
   ],
   "source": [
    "train_model  = model.fit(X_train, y_train,\n",
    "                  batch_size=BATCH_SIZE,\n",
    "                  epochs=NO_EPOCHS,\n",
    "                  verbose=1,\n",
    "                  validation_data=(X_val, y_val),\n",
    "                  callbacks=[earlystopper, checkpointer, annealer])"
   ]
  },
  {
   "cell_type": "markdown",
   "metadata": {},
   "source": [
    "# 六、评估模型"
   ]
  },
  {
   "cell_type": "markdown",
   "metadata": {},
   "source": [
    "## 1. Accuracy与Loss图"
   ]
  },
  {
   "cell_type": "code",
   "execution_count": 21,
   "metadata": {},
   "outputs": [
    {
     "data": {
      "image/png": "[encoded data removed]",
      "text/plain": [
       "<Figure size 864x288 with 2 Axes>"
      ]
     },
     "metadata": {
      "needs_background": "light"
     },
     "output_type": "display_data"
    }
   ],
   "source": [
    "acc = train_model.history['accuracy']\n",
    "val_acc = train_model.history['val_accuracy']\n",
    "\n",
    "loss = train_model.history['loss']\n",
    "val_loss = train_model.history['val_loss']\n",
    "\n",
    "epochs_range = range(len(acc))\n",
    "\n",
    "plt.figure(figsize=(12, 4))\n",
    "plt.subplot(1, 2, 1)\n",
    "\n",
    "plt.plot(epochs_range, acc, label='Training Accuracy')\n",
    "plt.plot(epochs_range, val_acc, label='Validation Accuracy')\n",
    "plt.legend(loc='lower right')\n",
    "plt.title('Training and Validation Accuracy')\n",
    "\n",
    "plt.subplot(1, 2, 2)\n",
    "plt.plot(epochs_range, loss, label='Training Loss')\n",
    "plt.plot(epochs_range, val_loss, label='Validation Loss')\n",
    "plt.legend(loc='upper right')\n",
    "plt.title('Training and Validation Loss')\n",
    "plt.show()"
   ]
  },
  {
   "cell_type": "markdown",
   "metadata": {},
   "source": [
    "## 2. 混淆矩阵"
   ]
  },
  {
   "cell_type": "code",
   "execution_count": 22,
   "metadata": {},
   "outputs": [
    {
     "data": {
      "image/png": "[encoded data removed]",
      "text/plain": [
       "<Figure size 576x504 with 2 Axes>"
      ]
     },
     "metadata": {
      "needs_background": "light"
     },
     "output_type": "display_data"
    }
   ],
   "source": [
    "from sklearn.metrics import confusion_matrix\n",
    "import seaborn as sns\n",
    "import pandas as pd\n",
    "\n",
    "class_names = [\"零\",\"一\",\"二\",\"三\",\"四\",\"五\",\"六\",\"七\",\"八\",\"九\",\"十\",\"百\",\"千\",\"万\",\"亿\"]\n",
    "\n",
    "# 定义一个绘制混淆矩阵图的函数\n",
    "def plot_cm(labels, predictions):\n",
    "    \n",
    "    # 生成混淆矩阵\n",
    "    conf_numpy = confusion_matrix(labels, predictions)\n",
    "    # 将矩阵转化为 DataFrame\n",
    "    conf_df = pd.DataFrame(conf_numpy, index=class_names ,columns=class_names)  \n",
    "    \n",
    "    plt.figure(figsize=(8,7))\n",
    "    \n",
    "    sns.heatmap(conf_df, annot=True, fmt=\"d\", cmap=\"BuPu\")\n",
    "    \n",
    "    plt.title('混淆矩阵',fontsize=15)\n",
    "    plt.ylabel('真实值',fontsize=14)\n",
    "    plt.xlabel('预测值',fontsize=14)\n",
    "    \n",
    "predicted      = model.predict(X_test)\n",
    "test_predicted = np.argmax(predicted, axis=1)\n",
    "test_truth     = np.argmax(y_test.values, axis=1)\n",
    "# 绘制混淆矩阵\n",
    "plot_cm(test_truth,test_predicted)"
   ]
  },
  {
   "cell_type": "markdown",
   "metadata": {},
   "source": [
    "## 3. 各项指标评估"
   ]
  },
  {
   "cell_type": "code",
   "execution_count": 23,
   "metadata": {},
   "outputs": [
    {
     "name": "stdout",
     "output_type": "stream",
     "text": [
      "Test loss: 0.13785076141357422\n",
      "Test accuracy: 0.9706666469573975\n"
     ]
    }
   ],
   "source": [
    "score = model.evaluate(X_test, y_test, verbose=0)\n",
    "print('Test loss:', score[0])\n",
    "print('Test accuracy:', score[1])"
   ]
  },
  {
   "cell_type": "code",
   "execution_count": 24,
   "metadata": {},
   "outputs": [
    {
     "name": "stdout",
     "output_type": "stream",
     "text": [
      "              precision    recall  f1-score   support\n",
      "\n",
      "           一       0.99      0.98      0.99       200\n",
      "           七       0.98      0.98      0.98       200\n",
      "           万       0.97      0.96      0.97       200\n",
      "           三       0.96      0.99      0.97       200\n",
      "           九       0.97      0.95      0.96       200\n",
      "           二       0.98      0.95      0.96       200\n",
      "           五       0.99      0.99      0.99       200\n",
      "           亿       0.97      0.98      0.97       200\n",
      "           八       0.99      1.00      1.00       200\n",
      "           六       0.96      0.98      0.97       200\n",
      "           十       0.89      0.97      0.93       200\n",
      "           千       0.98      0.88      0.92       200\n",
      "           四       0.98      0.99      0.98       200\n",
      "           百       0.96      0.94      0.95       200\n",
      "           零       0.99      1.00      1.00       200\n",
      "\n",
      "    accuracy                           0.97      3000\n",
      "   macro avg       0.97      0.97      0.97      3000\n",
      "weighted avg       0.97      0.97      0.97      3000\n",
      "\n",
      "Loss function: 0.13785076141357422, accuracy: 0.9706666469573975\n"
     ]
    }
   ],
   "source": [
    "from sklearn import metrics\n",
    "\n",
    "def test_accuracy_report(model):\n",
    "    predicted      = model.predict(X_test)\n",
    "    test_predicted = np.argmax(predicted, axis=1)\n",
    "    test_truth     = np.argmax(y_test.values, axis=1)\n",
    "    \n",
    "    print(metrics.classification_report(test_truth, test_predicted, target_names=y_test.columns)) \n",
    "    \n",
    "    test_res = model.evaluate(X_test, y_test.values, verbose=0)\n",
    "    print('Loss function: %s, accuracy:' % test_res[0], test_res[1])\n",
    "test_accuracy_report(model)"
   ]
  },
  {
   "cell_type": "markdown",
   "metadata": {},
   "source": [
    "# 七、同系列作品\n",
    "\n",
    "🚀 **深度学习新人必看：[《小白入门深度学习》](https://blog.csdn.net/qq_38251616/category_11188161.html)**\n",
    "\n",
    "1. [小白入门深度学习 | 第一篇：配置深度学习环境](https://mtyjkh.blog.csdn.net/article/details/118575238)\n",
    "2. [小白入门深度学习 | 第二篇：编译器的使用-Jupyter Notebook](https://mtyjkh.blog.csdn.net/article/details/118814364)\n",
    "3. [小白入门深度学习 | 第三篇：深度学习初体验](https://mtyjkh.blog.csdn.net/article/details/119081309)\n",
    "4. [小白入门深度学习 | 第四篇：配置PyTorch环境](https://mtyjkh.blog.csdn.net/article/details/119969393)\n",
    "\n",
    "🚀 往期精彩-卷积神经网络篇：\n",
    "\n",
    "1. [深度学习100例-卷积神经网络（CNN）实现mnist手写数字识别 | 第1天](https://mtyjkh.blog.csdn.net/article/details/116920825) \n",
    "2. [深度学习100例-卷积神经网络（CNN）彩色图片分类 | 第2天](https://mtyjkh.blog.csdn.net/article/details/116978213)\n",
    "3. [深度学习100例-卷积神经网络（CNN）服装图像分类 | 第3天](https://mtyjkh.blog.csdn.net/article/details/116992196)\n",
    "4. [深度学习100例-卷积神经网络（CNN）花朵识别 | 第4天](https://mtyjkh.blog.csdn.net/article/details/117079919)\n",
    "5. [深度学习100例-卷积神经网络（CNN）天气识别 | 第5天](https://mtyjkh.blog.csdn.net/article/details/117186183)\n",
    "6. [深度学习100例-卷积神经网络（VGG-16）识别海贼王草帽一伙 | 第6天](https://mtyjkh.blog.csdn.net/article/details/117331631)\n",
    "7. [深度学习100例-卷积神经网络（VGG-19）识别灵笼中的人物 | 第7天](https://mtyjkh.blog.csdn.net/article/details/117395797)\n",
    "8. [深度学习100例-卷积神经网络（ResNet-50）鸟类识别 | 第8天](https://mtyjkh.blog.csdn.net/article/details/117587326)\n",
    "9. [深度学习100例-卷积神经网络（AlexNet）手把手教学 | 第11天](https://mtyjkh.blog.csdn.net/article/details/117986183)\n",
    "10. [深度学习100例-卷积神经网络（CNN）识别验证码 | 第12天](https://mtyjkh.blog.csdn.net/article/details/118211253)\n",
    "11. [深度学习100例-卷积神经网络（Inception V3）识别手语 | 第13天](https://mtyjkh.blog.csdn.net/article/details/118310170)\n",
    "12. [深度学习100例-卷积神经网络（Inception-ResNet-v2）识别交通标志 | 第14天](https://mtyjkh.blog.csdn.net/article/details/118389790)\n",
    "13. [深度学习100例-卷积神经网络（CNN）实现车牌识别 | 第15天](https://mtyjkh.blog.csdn.net/article/details/118422302)\n",
    "14. [深度学习100例-卷积神经网络（CNN）识别神奇宝贝小智一伙 | 第16天](https://mtyjkh.blog.csdn.net/article/details/118631541)\n",
    "15. [深度学习100例-卷积神经网络（CNN）注意力检测 | 第17天](https://mtyjkh.blog.csdn.net/article/details/118938811)\n",
    "16. [深度学习100例-卷积神经网络（VGG-16）猫狗识别 | 第21天](https://mtyjkh.blog.csdn.net/article/details/119531838)\n",
    "17. [深度学习100例-卷积神经网络（LeNet-5）深度学习里的“Hello Word” | 第22天](https://mtyjkh.blog.csdn.net/article/details/119700804)\n",
    "18. [深度学习100例-卷积神经网络（CNN）3D医疗影像识别 | 第23天](https://mtyjkh.blog.csdn.net/article/details/119899570)\n",
    "19. [深度学习100例 | 第24天-卷积神经网络（Xception）：动物识别](https://blog.csdn.net/qq_38251616/article/details/120073717)\n",
    "\n",
    "🚀 往期精彩-循环神经网络篇：\n",
    "\n",
    "1. [深度学习100例-循环神经网络（RNN）实现股票预测 | 第9天](https://mtyjkh.blog.csdn.net/article/details/117752046)\n",
    "2. [深度学习100例-循环神经网络（LSTM）实现股票预测 | 第10天](https://mtyjkh.blog.csdn.net/article/details/117907074)\n",
    "\n",
    "🚀 往期精彩-生成对抗网络篇：\n",
    "\n",
    "1. [深度学习100例-生成对抗网络（GAN）手写数字生成 | 第18天](https://mtyjkh.blog.csdn.net/article/details/118995896)\n",
    "2. [深度学习100例-生成对抗网络（DCGAN）手写数字生成 | 第19天](https://mtyjkh.blog.csdn.net/article/details/119133575)\n",
    "3. [深度学习100例-生成对抗网络（DCGAN）生成动漫小姐姐 | 第20天](https://mtyjkh.blog.csdn.net/article/details/119182578)\n",
    "\n",
    "\n",
    "**🚀 本文选自专栏：[《深度学习100例》](https://blog.csdn.net/qq_38251616/category_11068756.html)**\n",
    "\n",
    "**💖先赞后看，再收藏，养成好习惯！💖**\n"
   ]
  }
 ],
 "metadata": {
  "kernelspec": {
   "display_name": "Python 3",
   "language": "python",
   "name": "python3"
  },
  "language_info": {
   "codemirror_mode": {
    "name": "ipython",
    "version": 3
   },
   "file_extension": ".py",
   "mimetype": "text/x-python",
   "name": "python",
   "nbconvert_exporter": "python",
   "pygments_lexer": "ipython3",
   "version": "3.8.8rc1"
  }
 },
 "nbformat": 4,
 "nbformat_minor": 4
}
